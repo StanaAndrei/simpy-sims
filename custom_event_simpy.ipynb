{
  "nbformat": 4,
  "nbformat_minor": 0,
  "metadata": {
    "colab": {
      "provenance": []
    },
    "kernelspec": {
      "name": "python3",
      "display_name": "Python 3"
    },
    "language_info": {
      "name": "python"
    }
  },
  "cells": [
    {
      "cell_type": "code",
      "source": [
        "!pip install simpy"
      ],
      "metadata": {
        "colab": {
          "base_uri": "https://localhost:8080/"
        },
        "id": "lMR4tVOXarJH",
        "outputId": "7e7b1859-e9c4-4453-b3a4-22279705abbf"
      },
      "execution_count": null,
      "outputs": [
        {
          "output_type": "stream",
          "name": "stdout",
          "text": [
            "Collecting simpy\n",
            "  Downloading simpy-4.1.1-py3-none-any.whl.metadata (6.1 kB)\n",
            "Downloading simpy-4.1.1-py3-none-any.whl (27 kB)\n",
            "Installing collected packages: simpy\n",
            "Successfully installed simpy-4.1.1\n"
          ]
        }
      ]
    },
    {
      "cell_type": "markdown",
      "source": [
        "in an office a cafe machine needs to be filled from time to time\n",
        "\n",
        "we run out of beans at random times\n",
        "\n",
        "an operator arrives and refill in 15mins\n",
        "\n",
        "the operator cleans the surrounding area and leaves after 5 min"
      ],
      "metadata": {
        "id": "KhHXnXzFauGf"
      }
    },
    {
      "cell_type": "code",
      "source": [
        "import simpy, random\n",
        "\n",
        "def coffee_machine(env):\n",
        "  while True:\n",
        "    print(f'Coffee machine ready to use at {env.now:.2f}')\n",
        "    run_out_of_cafe = random.uniform(60, 180) #mins\n",
        "    yield env.timeout(run_out_of_cafe)\n",
        "    print(f'Coffee over! Call op at time {env.now:.2f}')\n",
        "    refill = env.event()\n",
        "    print(f'Created refill event! Refill triggered attribute: {refill.triggered} at {env.now:.2f}')\n",
        "\n",
        "    env.process(refilling(env, refill))\n",
        "    yield refill\n",
        "\n",
        "def refilling(env, refill):\n",
        "  yield env.timeout(15)\n",
        "  print(f'Refilling at {env.now:.2f}')\n",
        "  refill.succeed()\n",
        "  print(f'Created refill event! Refill triggered attribute: {refill.triggered} at {env.now:.2f}')\n",
        "  yield env.timeout(5)\n",
        "  print(f'Cleaned up at {env.now:.2f}')\n",
        "\n",
        "env = simpy.Environment()\n",
        "env.process(coffee_machine(env))\n",
        "env.run(until=24*60)"
      ],
      "metadata": {
        "colab": {
          "base_uri": "https://localhost:8080/"
        },
        "id": "KoDTAFgPbG9v",
        "outputId": "ce5090be-f23f-466b-95f3-08451862c36a"
      },
      "execution_count": null,
      "outputs": [
        {
          "output_type": "stream",
          "name": "stdout",
          "text": [
            "Coffee machine ready to use at 0.00\n",
            "Coffee over! Call op at time 170.10\n",
            "Created refill event! Refill triggered attribute: False at 170.10\n",
            "Refilling at 185.10\n",
            "Created refill event! Refill triggered attribute: True at 185.10\n",
            "Coffee machine ready to use at 185.10\n",
            "Cleaned up at 190.10\n",
            "Coffee over! Call op at time 323.28\n",
            "Created refill event! Refill triggered attribute: False at 323.28\n",
            "Refilling at 338.28\n",
            "Created refill event! Refill triggered attribute: True at 338.28\n",
            "Coffee machine ready to use at 338.28\n",
            "Cleaned up at 343.28\n",
            "Coffee over! Call op at time 488.06\n",
            "Created refill event! Refill triggered attribute: False at 488.06\n",
            "Refilling at 503.06\n",
            "Created refill event! Refill triggered attribute: True at 503.06\n",
            "Coffee machine ready to use at 503.06\n",
            "Cleaned up at 508.06\n",
            "Coffee over! Call op at time 667.47\n",
            "Created refill event! Refill triggered attribute: False at 667.47\n",
            "Refilling at 682.47\n",
            "Created refill event! Refill triggered attribute: True at 682.47\n",
            "Coffee machine ready to use at 682.47\n",
            "Cleaned up at 687.47\n",
            "Coffee over! Call op at time 761.64\n",
            "Created refill event! Refill triggered attribute: False at 761.64\n",
            "Refilling at 776.64\n",
            "Created refill event! Refill triggered attribute: True at 776.64\n",
            "Coffee machine ready to use at 776.64\n",
            "Cleaned up at 781.64\n",
            "Coffee over! Call op at time 912.74\n",
            "Created refill event! Refill triggered attribute: False at 912.74\n",
            "Refilling at 927.74\n",
            "Created refill event! Refill triggered attribute: True at 927.74\n",
            "Coffee machine ready to use at 927.74\n",
            "Cleaned up at 932.74\n",
            "Coffee over! Call op at time 988.79\n",
            "Created refill event! Refill triggered attribute: False at 988.79\n",
            "Refilling at 1003.79\n",
            "Created refill event! Refill triggered attribute: True at 1003.79\n",
            "Coffee machine ready to use at 1003.79\n",
            "Cleaned up at 1008.79\n",
            "Coffee over! Call op at time 1176.95\n",
            "Created refill event! Refill triggered attribute: False at 1176.95\n",
            "Refilling at 1191.95\n",
            "Created refill event! Refill triggered attribute: True at 1191.95\n",
            "Coffee machine ready to use at 1191.95\n",
            "Cleaned up at 1196.95\n",
            "Coffee over! Call op at time 1283.99\n",
            "Created refill event! Refill triggered attribute: False at 1283.99\n",
            "Refilling at 1298.99\n",
            "Created refill event! Refill triggered attribute: True at 1298.99\n",
            "Coffee machine ready to use at 1298.99\n",
            "Cleaned up at 1303.99\n"
          ]
        }
      ]
    }
  ]
}