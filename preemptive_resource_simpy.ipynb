{
  "nbformat": 4,
  "nbformat_minor": 0,
  "metadata": {
    "colab": {
      "provenance": [],
      "collapsed_sections": [
        "W2-WP8XNfTER"
      ]
    },
    "kernelspec": {
      "name": "python3",
      "display_name": "Python 3"
    },
    "language_info": {
      "name": "python"
    }
  },
  "cells": [
    {
      "cell_type": "code",
      "source": [
        "!pip install simpy"
      ],
      "metadata": {
        "colab": {
          "base_uri": "https://localhost:8080/"
        },
        "id": "NvW5RzZTe8Oi",
        "outputId": "a1e3984f-1d68-4b15-823a-b96b4740741b"
      },
      "execution_count": null,
      "outputs": [
        {
          "output_type": "stream",
          "name": "stdout",
          "text": [
            "Collecting simpy\n",
            "  Downloading simpy-4.1.1-py3-none-any.whl.metadata (6.1 kB)\n",
            "Downloading simpy-4.1.1-py3-none-any.whl (27 kB)\n",
            "Installing collected packages: simpy\n",
            "Successfully installed simpy-4.1.1\n"
          ]
        }
      ]
    },
    {
      "cell_type": "markdown",
      "source": [
        "a coffee machine needs refills at random times(by 1 worker)\n",
        "\n",
        "the worker must clean the floors, less important tasks as well\n",
        "\n",
        "coffee refill preempts the cleaning task\n",
        "\n",
        "the cleaning continues after done with refilling the coffee machine"
      ],
      "metadata": {
        "id": "YDLdJA5Uef0h"
      }
    },
    {
      "cell_type": "markdown",
      "source": [
        "### approach 1 (w/o preemptive res)"
      ],
      "metadata": {
        "id": "W2-WP8XNfTER"
      }
    },
    {
      "cell_type": "code",
      "source": [
        "import simpy, random\n",
        "\n",
        "def cafe_machine(env):\n",
        "  while True:\n",
        "    print(f'Cafe machine ready to use at {env.now:.2f}')\n",
        "    rand_inter_time = 100 #random.uniform(60, 180)\n",
        "    yield env.timeout(rand_inter_time)\n",
        "    print(f'Cafe machine done. Call worker at {env.now:.2f}')\n",
        "    cleaning.interrupt()\n",
        "    global refilled_ev\n",
        "    yield refilled_ev\n",
        "    refilled_ev = env.event()\n",
        "\n",
        "def clean_floor(env, worker):\n",
        "  time_to_clean = 120\n",
        "  while True:\n",
        "    try:\n",
        "      while time_to_clean:\n",
        "        print(f'Cleaning started at {env.now:.2f} and time to clean = {time_to_clean:.2f}')\n",
        "        with worker.request() as req:\n",
        "          yield req\n",
        "          start = env.now\n",
        "          yield env.timeout(time_to_clean)\n",
        "          time_to_clean = 120\n",
        "    except simpy.Interrupt:\n",
        "      current_time = env.now\n",
        "      time_to_clean -= current_time - start\n",
        "      if time_to_clean == 0:\n",
        "        time_to_clean = 120\n",
        "      print(f'Cleaning interrupted at {env.now:.2f} and time left to clean = {time_to_clean:.2f}')\n",
        "      yield env.process(refilling(env, worker))\n",
        "\n",
        "\n",
        "\n",
        "def refilling(env, worker):\n",
        "  with worker.request() as req:\n",
        "    yield req\n",
        "    print(f'Refilling machine started at {env.now:.2f}')\n",
        "    yield env.timeout(15)\n",
        "    print(f'Refilled machine is ready to use at {env.now:.2f}')\n",
        "    global refilled_ev\n",
        "    refilled_ev.succeed()\n",
        "\n",
        "env = simpy.Environment()\n",
        "refilled_ev = env.event()\n",
        "worker = simpy.Resource(env, capacity=1)\n",
        "\n",
        "worker = simpy.Resource(env, capacity=1)\n",
        "env.process(cafe_machine(env))\n",
        "cleaning = env.process(clean_floor(env, worker))\n",
        "env.run(until=24*60)"
      ],
      "metadata": {
        "id": "BpY68ZCHe-mJ"
      },
      "execution_count": null,
      "outputs": []
    },
    {
      "cell_type": "markdown",
      "source": [
        "### 2 (w/ preemptive res)"
      ],
      "metadata": {
        "id": "OU0J3huZZkI7"
      }
    },
    {
      "cell_type": "code",
      "source": [
        "import simpy, random\n",
        "\n",
        "def cafe_machine(env):\n",
        "  while True:\n",
        "    print(f'Cafe machine ready to use at {env.now:.2f}')\n",
        "    rand_inter_time = 100 #random.uniform(60, 180)\n",
        "    yield env.timeout(rand_inter_time)\n",
        "    print(f'Cafe machine done. Call worker at {env.now:.2f}')\n",
        "    yield env.process(refilling(env, worker))\n",
        "\n",
        "def clean_floor(env, worker):\n",
        "  time_to_clean = 120\n",
        "  while True:\n",
        "    try:\n",
        "      while time_to_clean:\n",
        "        print(f'Cleaning started at {env.now:.2f} and time to clean = {time_to_clean:.2f}')\n",
        "        with worker.request(priority=2) as req:\n",
        "          yield req\n",
        "          start = env.now\n",
        "          yield env.timeout(time_to_clean)\n",
        "          print(f'Cleaning finishedat time {env.now:.2f} and time to clean = {time_to_clean:.2f}')\n",
        "          time_to_clean = 120\n",
        "    except simpy.Interrupt:\n",
        "      current_time = env.now\n",
        "      time_to_clean -= current_time - start\n",
        "      if time_to_clean == 0:\n",
        "        time_to_clean = 120\n",
        "      print(f'Cleaning interrupted at {env.now:.2f} and time left to clean = {time_to_clean:.2f}')\n",
        "\n",
        "\n",
        "def refilling(env, worker):\n",
        "  with worker.request(priority=1) as req:\n",
        "    yield req\n",
        "    print(f'Refilling machine started at {env.now:.2f}')\n",
        "    yield env.timeout(15)\n",
        "    print(f'Refilled machine is ready to use at {env.now:.2f}')\n",
        "\n",
        "env = simpy.Environment()\n",
        "worker = simpy.PreemptiveResource(env, capacity=1)\n",
        "env.process(cafe_machine(env))\n",
        "cleaning = env.process(clean_floor(env, worker))\n",
        "env.run(until=24*60)"
      ],
      "metadata": {
        "colab": {
          "base_uri": "https://localhost:8080/"
        },
        "id": "AgLT53b6Zm2K",
        "outputId": "fd3cbad8-4940-48fa-ca05-b339ae613fcb"
      },
      "execution_count": null,
      "outputs": [
        {
          "output_type": "stream",
          "name": "stdout",
          "text": [
            "Cafe machine ready to use at 0.00\n",
            "Cleaning started at 0.00 and time to clean = 120.00\n",
            "Cafe machine done. Call worker at 100.00\n",
            "Cleaning interrupted at 100.00 and time left to clean = 20.00\n",
            "Cleaning started at 100.00 and time to clean = 20.00\n",
            "Refilling machine started at 100.00\n",
            "Refilled machine is ready to use at 115.00\n",
            "Cafe machine ready to use at 115.00\n",
            "Cleaning finishedat time 135.00 and time to clean = 20.00\n",
            "Cleaning started at 135.00 and time to clean = 120.00\n",
            "Cafe machine done. Call worker at 215.00\n",
            "Cleaning interrupted at 215.00 and time left to clean = 40.00\n",
            "Cleaning started at 215.00 and time to clean = 40.00\n",
            "Refilling machine started at 215.00\n",
            "Refilled machine is ready to use at 230.00\n",
            "Cafe machine ready to use at 230.00\n",
            "Cleaning finishedat time 270.00 and time to clean = 40.00\n",
            "Cleaning started at 270.00 and time to clean = 120.00\n",
            "Cafe machine done. Call worker at 330.00\n",
            "Cleaning interrupted at 330.00 and time left to clean = 60.00\n",
            "Cleaning started at 330.00 and time to clean = 60.00\n",
            "Refilling machine started at 330.00\n",
            "Refilled machine is ready to use at 345.00\n",
            "Cafe machine ready to use at 345.00\n",
            "Cleaning finishedat time 405.00 and time to clean = 60.00\n",
            "Cleaning started at 405.00 and time to clean = 120.00\n",
            "Cafe machine done. Call worker at 445.00\n",
            "Cleaning interrupted at 445.00 and time left to clean = 80.00\n",
            "Cleaning started at 445.00 and time to clean = 80.00\n",
            "Refilling machine started at 445.00\n",
            "Refilled machine is ready to use at 460.00\n",
            "Cafe machine ready to use at 460.00\n",
            "Cleaning finishedat time 540.00 and time to clean = 80.00\n",
            "Cleaning started at 540.00 and time to clean = 120.00\n",
            "Cafe machine done. Call worker at 560.00\n",
            "Cleaning interrupted at 560.00 and time left to clean = 100.00\n",
            "Cleaning started at 560.00 and time to clean = 100.00\n",
            "Refilling machine started at 560.00\n",
            "Refilled machine is ready to use at 575.00\n",
            "Cafe machine ready to use at 575.00\n",
            "Cafe machine done. Call worker at 675.00\n",
            "Cleaning interrupted at 675.00 and time left to clean = 120.00\n",
            "Cleaning started at 675.00 and time to clean = 120.00\n",
            "Refilling machine started at 675.00\n",
            "Refilled machine is ready to use at 690.00\n",
            "Cafe machine ready to use at 690.00\n",
            "Cafe machine done. Call worker at 790.00\n",
            "Cleaning interrupted at 790.00 and time left to clean = 20.00\n",
            "Cleaning started at 790.00 and time to clean = 20.00\n",
            "Refilling machine started at 790.00\n",
            "Refilled machine is ready to use at 805.00\n",
            "Cafe machine ready to use at 805.00\n",
            "Cleaning finishedat time 825.00 and time to clean = 20.00\n",
            "Cleaning started at 825.00 and time to clean = 120.00\n",
            "Cafe machine done. Call worker at 905.00\n",
            "Cleaning interrupted at 905.00 and time left to clean = 40.00\n",
            "Cleaning started at 905.00 and time to clean = 40.00\n",
            "Refilling machine started at 905.00\n",
            "Refilled machine is ready to use at 920.00\n",
            "Cafe machine ready to use at 920.00\n",
            "Cleaning finishedat time 960.00 and time to clean = 40.00\n",
            "Cleaning started at 960.00 and time to clean = 120.00\n",
            "Cafe machine done. Call worker at 1020.00\n",
            "Cleaning interrupted at 1020.00 and time left to clean = 60.00\n",
            "Cleaning started at 1020.00 and time to clean = 60.00\n",
            "Refilling machine started at 1020.00\n",
            "Refilled machine is ready to use at 1035.00\n",
            "Cafe machine ready to use at 1035.00\n",
            "Cleaning finishedat time 1095.00 and time to clean = 60.00\n",
            "Cleaning started at 1095.00 and time to clean = 120.00\n",
            "Cafe machine done. Call worker at 1135.00\n",
            "Cleaning interrupted at 1135.00 and time left to clean = 80.00\n",
            "Cleaning started at 1135.00 and time to clean = 80.00\n",
            "Refilling machine started at 1135.00\n",
            "Refilled machine is ready to use at 1150.00\n",
            "Cafe machine ready to use at 1150.00\n",
            "Cleaning finishedat time 1230.00 and time to clean = 80.00\n",
            "Cleaning started at 1230.00 and time to clean = 120.00\n",
            "Cafe machine done. Call worker at 1250.00\n",
            "Cleaning interrupted at 1250.00 and time left to clean = 100.00\n",
            "Cleaning started at 1250.00 and time to clean = 100.00\n",
            "Refilling machine started at 1250.00\n",
            "Refilled machine is ready to use at 1265.00\n",
            "Cafe machine ready to use at 1265.00\n",
            "Cafe machine done. Call worker at 1365.00\n",
            "Cleaning interrupted at 1365.00 and time left to clean = 120.00\n",
            "Cleaning started at 1365.00 and time to clean = 120.00\n",
            "Refilling machine started at 1365.00\n",
            "Refilled machine is ready to use at 1380.00\n",
            "Cafe machine ready to use at 1380.00\n"
          ]
        }
      ]
    }
  ]
}