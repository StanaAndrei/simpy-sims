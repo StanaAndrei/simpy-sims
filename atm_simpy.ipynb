{
  "nbformat": 4,
  "nbformat_minor": 0,
  "metadata": {
    "colab": {
      "provenance": [],
      "collapsed_sections": [
        "3G8NvLigj5Rx",
        "GRjvgYUij9_y",
        "UwKjGhcomKJR",
        "zk2GYbN183_i"
      ]
    },
    "kernelspec": {
      "name": "python3",
      "display_name": "Python 3"
    },
    "language_info": {
      "name": "python"
    }
  },
  "cells": [
    {
      "cell_type": "code",
      "source": [
        "!pip install simpy"
      ],
      "metadata": {
        "colab": {
          "base_uri": "https://localhost:8080/"
        },
        "id": "JpBdWJpyrM6a",
        "outputId": "528945d9-a2a9-4aa0-b80b-4250f961f702"
      },
      "execution_count": null,
      "outputs": [
        {
          "output_type": "stream",
          "name": "stdout",
          "text": [
            "Collecting simpy\n",
            "  Downloading simpy-4.1.1-py3-none-any.whl.metadata (6.1 kB)\n",
            "Downloading simpy-4.1.1-py3-none-any.whl (27 kB)\n",
            "Installing collected packages: simpy\n",
            "Successfully installed simpy-4.1.1\n"
          ]
        }
      ]
    },
    {
      "cell_type": "markdown",
      "source": [
        "\n",
        "## Non random"
      ],
      "metadata": {
        "id": "3G8NvLigj5Rx"
      }
    },
    {
      "cell_type": "code",
      "source": [
        "def customer(env, name: str = ''):\n",
        "  print(f'{name}: Arrives at {env.now}')\n",
        "  yield env.timeout(30)\n",
        "  print(f'{name}: Details entered at time {env.now}')\n",
        "  yield env.timeout(60)\n",
        "  print(f'{name}: Cash retrieved at time {env.now}')"
      ],
      "metadata": {
        "id": "NJB9PglKrdsA"
      },
      "execution_count": null,
      "outputs": []
    },
    {
      "cell_type": "code",
      "source": [
        "import simpy\n",
        "\n",
        "env = simpy.Environment()\n",
        "env.process(customer(env))\n",
        "env.run()"
      ],
      "metadata": {
        "colab": {
          "base_uri": "https://localhost:8080/"
        },
        "id": "aXEc2toYr0rZ",
        "outputId": "3d99a01f-846e-48ae-ecd7-9c28a2ab2d6f"
      },
      "execution_count": null,
      "outputs": [
        {
          "output_type": "stream",
          "name": "stdout",
          "text": [
            ": Arrives at 0\n",
            ": Details entered at time 30\n",
            ": Cash retrieved at time 90\n"
          ]
        }
      ]
    },
    {
      "cell_type": "code",
      "source": [
        "def customer_gen(env, ciat):\n",
        "  id = 1\n",
        "  while True:\n",
        "    yield env.timeout(ciat)\n",
        "    env.process(customer(env=env, name=f'customer {id}'))\n",
        "    id += 1"
      ],
      "metadata": {
        "id": "odcUwUHHh9op"
      },
      "execution_count": null,
      "outputs": []
    },
    {
      "cell_type": "code",
      "source": [
        "CUST_INTER_ARR_TIME = 2 * 60 # 2mins\n",
        "\n",
        "env.process(customer_gen(env=env, ciat=CUST_INTER_ARR_TIME))\n",
        "env.run(until=10*60) # 10mins"
      ],
      "metadata": {
        "colab": {
          "base_uri": "https://localhost:8080/"
        },
        "id": "e2CcArIXjA55",
        "outputId": "efee1885-7930-4185-ab32-08f7e7bd9d30"
      },
      "execution_count": null,
      "outputs": [
        {
          "output_type": "stream",
          "name": "stdout",
          "text": [
            "customer 1: Arrives at 210\n",
            "customer 1: Details entered at time 240\n",
            "customer 1: Cash retrieved at time 300\n",
            "customer 2: Arrives at 330\n",
            "customer 2: Details entered at time 360\n",
            "customer 2: Cash retrieved at time 420\n",
            "customer 3: Arrives at 450\n",
            "customer 3: Details entered at time 480\n",
            "customer 3: Cash retrieved at time 540\n",
            "customer 4: Arrives at 570\n"
          ]
        }
      ]
    },
    {
      "cell_type": "markdown",
      "source": [
        "# Random time"
      ],
      "metadata": {
        "id": "GRjvgYUij9_y"
      }
    },
    {
      "cell_type": "code",
      "source": [
        "import simpy, random\n",
        "\n",
        "def customer(env, name: str = ''):\n",
        "  print(f'{name}: Arrives at {env.now:.2f}')\n",
        "  yield env.timeout(30)\n",
        "  print(f'{name}: Details entered at time {env.now:.2f}')\n",
        "  yield env.timeout(60)\n",
        "  print(f'{name}: Cash retrieved at time {env.now:.2f}')\n",
        "\n",
        "def customer_gen(env):\n",
        "  id = 1\n",
        "  while True:\n",
        "    rand_int_time = random.uniform(1, 3) * 60\n",
        "    yield env.timeout(rand_int_time)\n",
        "    env.process(customer(env=env, name=f'customer {id}'))\n",
        "    id += 1\n",
        "\n",
        "random.seed(42)\n",
        "\n",
        "env = simpy.Environment()\n",
        "env.process(customer_gen(env=env))\n",
        "env.run(until=10*60) # 10mins"
      ],
      "metadata": {
        "colab": {
          "base_uri": "https://localhost:8080/"
        },
        "id": "y1nIbOxUkCCo",
        "outputId": "c66c1194-8999-4165-c1d7-827823b83af7"
      },
      "execution_count": null,
      "outputs": [
        {
          "output_type": "stream",
          "name": "stdout",
          "text": [
            "customer 1: Arrives at 136.73\n",
            "customer 1: Details entered at time 166.73\n",
            "customer 2: Arrives at 199.73\n",
            "customer 1: Cash retrieved at time 226.73\n",
            "customer 2: Details entered at time 229.73\n",
            "customer 2: Cash retrieved at time 289.73\n",
            "customer 3: Arrives at 292.74\n",
            "customer 3: Details entered at time 322.74\n",
            "customer 4: Arrives at 379.52\n",
            "customer 3: Cash retrieved at time 382.74\n",
            "customer 4: Details entered at time 409.52\n",
            "customer 4: Cash retrieved at time 469.52\n",
            "customer 5: Arrives at 527.90\n",
            "customer 5: Details entered at time 557.90\n"
          ]
        }
      ]
    },
    {
      "cell_type": "markdown",
      "source": [
        "# Finite resources"
      ],
      "metadata": {
        "id": "UwKjGhcomKJR"
      }
    },
    {
      "cell_type": "code",
      "source": [
        "import simpy, random\n",
        "\n",
        "def customer(env, name, atm):\n",
        "  print(f'{name}: Arrives at {env.now:.2f}')\n",
        "  with atm.request() as atm_req:\n",
        "    yield atm_req\n",
        "    print(f'{name}: gets ATM machine at {env.now:.2f}')\n",
        "    yield env.timeout(30)\n",
        "    print(f'{name}: Details entered at time {env.now:.2f}')\n",
        "    yield env.timeout(60)\n",
        "    print(f'{name}: Cash retrieved at time {env.now:.2f}')\n",
        "\n",
        "def customer_gen(env, atm):\n",
        "  id = 1\n",
        "  while True:\n",
        "    rand_int_time = random.uniform(1, 3) * 60\n",
        "    yield env.timeout(rand_int_time)\n",
        "    env.process(customer(env=env, name=f'customer {id}', atm=atm))\n",
        "    id += 1\n",
        "\n",
        "random.seed(2)\n",
        "\n",
        "env = simpy.Environment()\n",
        "atm = simpy.Resource(env, capacity=1)\n",
        "env.process(customer_gen(env=env, atm=atm))\n",
        "env.run(until=10*60) # 10mins"
      ],
      "metadata": {
        "colab": {
          "base_uri": "https://localhost:8080/"
        },
        "id": "boIxV5ismU35",
        "outputId": "53476d17-0c01-40df-a26b-4708a4423ea5"
      },
      "execution_count": null,
      "outputs": [
        {
          "output_type": "stream",
          "name": "stdout",
          "text": [
            "customer 1: Arrives at 174.72\n",
            "customer 1: gets ATM machine at 174.72\n",
            "customer 1: Details entered at time 204.72\n",
            "customer 1: Cash retrieved at time 264.72\n",
            "customer 2: Arrives at 348.46\n",
            "customer 2: gets ATM machine at 348.46\n",
            "customer 2: Details entered at time 378.46\n",
            "customer 3: Arrives at 415.25\n",
            "customer 2: Cash retrieved at time 438.46\n",
            "customer 3: gets ATM machine at 438.46\n",
            "customer 3: Details entered at time 468.46\n",
            "customer 4: Arrives at 485.43\n",
            "customer 3: Cash retrieved at time 528.46\n",
            "customer 4: gets ATM machine at 528.46\n",
            "customer 4: Details entered at time 558.46\n"
          ]
        }
      ]
    },
    {
      "cell_type": "markdown",
      "source": [
        "# Data analysis"
      ],
      "metadata": {
        "id": "zk2GYbN183_i"
      }
    },
    {
      "cell_type": "code",
      "source": [
        "import simpy, random, numpy as np\n",
        "\n",
        "SIM_TIME = 24 * 60 ** 2\n",
        "WARMUP_TIME = 1 * 60 ** 2\n",
        "\n",
        "ct_simulation = [] # cycle time\n",
        "ct_replication = []\n",
        "waiting_time_simulation = []\n",
        "waiting_time_replication = []\n",
        "throughput_simulation = []\n",
        "\n",
        "def customer(env, name, atm):\n",
        "  # print(f'{name}: Arrives at {env.now:.2f}')\n",
        "  customer_enter_time = env.now\n",
        "  with atm.request() as atm_req:\n",
        "    yield atm_req\n",
        "    customer_got_atm = env.now\n",
        "    # print(f'{name}: gets ATM machine at {env.now:.2f}')\n",
        "    yield env.timeout(30)\n",
        "    # print(f'{name}: Details entered at time {env.now:.2f}')\n",
        "    yield env.timeout(60)\n",
        "    # print(f'{name}: Cash retrieved at time {env.now:.2f}')\n",
        "  if env.now > WARMUP_TIME:\n",
        "    waiting_time_replication.append(customer_got_atm - customer_enter_time)\n",
        "    ct_replication.append(env.now - customer_enter_time)\n",
        "\n",
        "def customer_gen(env, atm):\n",
        "  id = 1\n",
        "  while True:\n",
        "    rand_int_time = random.uniform(0, 1) * 60\n",
        "    yield env.timeout(rand_int_time)\n",
        "    env.process(customer(env=env, name=f'customer {id}', atm=atm))\n",
        "    id += 1\n",
        "\n",
        "for r in range(50):\n",
        "  random.seed(r)\n",
        "\n",
        "  env = simpy.Environment()\n",
        "  atm = simpy.Resource(env, capacity=1)\n",
        "  env.process(customer_gen(env=env, atm=atm))\n",
        "  env.run(until=SIM_TIME) #\n",
        "\n",
        "  ct_simulation.append(np.mean(ct_replication))\n",
        "  waiting_time_simulation.append(np.mean(waiting_time_replication))\n",
        "  num_customers = len(ct_replication)\n",
        "  throughput_simulation.append(num_customers / (SIM_TIME - WARMUP_TIME))\n",
        "\n",
        "  ct_replication = []\n",
        "  waiting_time_replication = []\n",
        "\n",
        "print(f'Average cycle time: {np.mean(ct_simulation)/60 :.2f} +/- {np.std(ct_simulation)/60 :.2f} minutes')\n",
        "print(f'Average waiting time: {np.mean(waiting_time_simulation)/60 :.2f} +/- {np.std(waiting_time_simulation)/60 :.2f} minutes')\n",
        "print(f'Average throughput: {np.mean(throughput_simulation)*60**2 :.2f} +/- {np.std(throughput_simulation)*60**2 :.2f} customers/hour')"
      ],
      "metadata": {
        "colab": {
          "base_uri": "https://localhost:8080/"
        },
        "id": "yKw9lTOp88lZ",
        "outputId": "39e744f2-ba0a-4333-94a4-6454aa4eddbc"
      },
      "execution_count": null,
      "outputs": [
        {
          "output_type": "stream",
          "name": "stdout",
          "text": [
            "Average cycle time: 500.53 +/- 5.77 minutes\n",
            "Average waiting time: 499.03 +/- 5.77 minutes\n",
            "Average throughput: 40.00 +/- 0.00 customers/hour\n"
          ]
        }
      ]
    },
    {
      "cell_type": "markdown",
      "source": [
        "# How many ATMS to install"
      ],
      "metadata": {
        "id": "rzJPTrxcBknR"
      }
    },
    {
      "cell_type": "code",
      "source": [
        "import simpy, random, numpy as np\n",
        "\n",
        "SIM_TIME = 24 * 60 ** 2\n",
        "WARMUP_TIME = 1 * 60 ** 2\n",
        "\n",
        "ct_simulation = [] # cycle time\n",
        "ct_replication = []\n",
        "waiting_time_simulation = []\n",
        "waiting_time_replication = []\n",
        "throughput_simulation = []\n",
        "\n",
        "num_atms = [i for i in range(1, 6)]\n",
        "ct_atms = []\n",
        "throughput_atms = []\n",
        "\n",
        "def customer(env, name, atm):\n",
        "  # print(f'{name}: Arrives at {env.now:.2f}')\n",
        "  customer_enter_time = env.now\n",
        "  with atm.request() as atm_req:\n",
        "    yield atm_req\n",
        "    customer_got_atm = env.now\n",
        "    # print(f'{name}: gets ATM machine at {env.now:.2f}')\n",
        "    yield env.timeout(30)\n",
        "    # print(f'{name}: Details entered at time {env.now:.2f}')\n",
        "    yield env.timeout(60)\n",
        "    # print(f'{name}: Cash retrieved at time {env.now:.2f}')\n",
        "  if env.now > WARMUP_TIME:\n",
        "    waiting_time_replication.append(customer_got_atm - customer_enter_time)\n",
        "    ct_replication.append(env.now - customer_enter_time)\n",
        "\n",
        "def customer_gen(env, atm):\n",
        "  id = 1\n",
        "  while True:\n",
        "    rand_int_time = random.uniform(0, 1) * 60\n",
        "    yield env.timeout(rand_int_time)\n",
        "    env.process(customer(env=env, name=f'customer {id}', atm=atm))\n",
        "    id += 1\n",
        "\n",
        "for atm_cap in num_atms:\n",
        "  for r in range(50):\n",
        "    random.seed(r)\n",
        "\n",
        "    env = simpy.Environment()\n",
        "    atm = simpy.Resource(env, capacity=atm_cap)\n",
        "    env.process(customer_gen(env=env, atm=atm))\n",
        "    env.run(until=SIM_TIME)\n",
        "\n",
        "    ct_simulation.append(np.mean(ct_replication))\n",
        "    waiting_time_simulation.append(np.mean(waiting_time_replication))\n",
        "    num_customers = len(ct_replication)\n",
        "    throughput_simulation.append(num_customers / (SIM_TIME - WARMUP_TIME))\n",
        "\n",
        "    ct_replication = []\n",
        "    waiting_time_replication = []\n",
        "\n",
        "  ct_atms.append(np.mean(ct_simulation)/60)\n",
        "  throughput_atms.append(np.mean(throughput_simulation)*60**2)\n",
        "\n",
        "  ct_simulation = []\n",
        "  throughput_simulation = []"
      ],
      "metadata": {
        "id": "paWxwsJIBnI5"
      },
      "execution_count": null,
      "outputs": []
    },
    {
      "cell_type": "markdown",
      "source": [
        "plots"
      ],
      "metadata": {
        "id": "JB8u681lDIGQ"
      }
    },
    {
      "cell_type": "code",
      "source": [
        "import matplotlib.pyplot as plt\n",
        "\n",
        "plt.plot(num_atms, ct_atms)\n",
        "plt.title('Average cycle time versus atms')\n",
        "plt.ylabel('Average Cycle time (minutes)')\n",
        "plt.xlabel('Number of ATMs')\n",
        "plt.show()"
      ],
      "metadata": {
        "colab": {
          "base_uri": "https://localhost:8080/",
          "height": 472
        },
        "id": "UfzY0fbdDE1Z",
        "outputId": "fa96539f-dea1-4995-a1a5-e012b2c8aa06"
      },
      "execution_count": null,
      "outputs": [
        {
          "output_type": "display_data",
          "data": {
            "text/plain": [
              "<Figure size 640x480 with 1 Axes>"
            ],
            "image/png": "[encoded data removed]"
          },
          "metadata": {}
        }
      ]
    },
    {
      "cell_type": "code",
      "source": [
        "import matplotlib.pyplot as plt\n",
        "\n",
        "plt.plot(num_atms, throughput_atms)\n",
        "plt.title('Average Throughput Rate versus ATMS')\n",
        "plt.ylabel('Average Throughput Rate (minutes)')\n",
        "plt.xlabel('Number of ATMs')\n",
        "plt.show()"
      ],
      "metadata": {
        "colab": {
          "base_uri": "https://localhost:8080/",
          "height": 472
        },
        "id": "S1OEaYoSDoOp",
        "outputId": "2f9d5eee-2399-4717-e679-154bcfe1f02f"
      },
      "execution_count": null,
      "outputs": [
        {
          "output_type": "display_data",
          "data": {
            "text/plain": [
              "<Figure size 640x480 with 1 Axes>"
            ],
            "image/png": "[encoded data removed]"
          },
          "metadata": {}
        }
      ]
    }
  ]
}