{
  "nbformat": 4,
  "nbformat_minor": 0,
  "metadata": {
    "colab": {
      "provenance": []
    },
    "kernelspec": {
      "name": "python3",
      "display_name": "Python 3"
    },
    "language_info": {
      "name": "python"
    }
  },
  "cells": [
    {
      "cell_type": "code",
      "source": [
        "!pip install simpy"
      ],
      "metadata": {
        "colab": {
          "base_uri": "https://localhost:8080/"
        },
        "id": "umrCVDOAfQNU",
        "outputId": "8dc99c1f-65bb-493f-d103-e5adf169f64c"
      },
      "execution_count": null,
      "outputs": [
        {
          "output_type": "stream",
          "name": "stdout",
          "text": [
            "Collecting simpy\n",
            "  Downloading simpy-4.1.1-py3-none-any.whl.metadata (6.1 kB)\n",
            "Downloading simpy-4.1.1-py3-none-any.whl (27 kB)\n",
            "Installing collected packages: simpy\n",
            "Successfully installed simpy-4.1.1\n"
          ]
        }
      ]
    },
    {
      "cell_type": "markdown",
      "source": [
        "# Priority resource"
      ],
      "metadata": {
        "id": "JumAZ8VkfN0D"
      }
    },
    {
      "cell_type": "markdown",
      "source": [
        "assembly workshop with one worker\n",
        "\n",
        "2 types of jobs(priority[1]>priority[2])"
      ],
      "metadata": {
        "id": "626fZsH9zJLf"
      }
    },
    {
      "cell_type": "code",
      "source": [
        "import simpy, random, numpy as np\n",
        "\n",
        "jobs = {}\n",
        "stats = {\n",
        "    'cycle_times': {\n",
        "        1: [],\n",
        "        2: [],\n",
        "    }\n",
        "}\n",
        "\n",
        "def job_arrival(env, workers):\n",
        "  i = 0\n",
        "  while True:\n",
        "    i += 1\n",
        "    yield env.timeout(random.expovariate(1/10)) #1/10mins\n",
        "    job_prio = np.random.choice([1, 2], p=[.2, .8])\n",
        "    name = i\n",
        "    jobs[name] = env.now\n",
        "    env.process(proc_job(env, name, job_prio, workers))\n",
        "\n",
        "    if i == 1000:\n",
        "      break\n",
        "\n",
        "def proc_job(env, name, job_prio, workers):\n",
        "  # print(len(workers.queue))\n",
        "  with workers.request(priority=job_prio) as req:\n",
        "    yield req\n",
        "    yield env.timeout(20) #20mins\n",
        "\n",
        "  # print(f'Job {name} with priority {job_prio} finished at {env.now}')\n",
        "  jobs[name] = env.now - jobs[name]\n",
        "  stats['cycle_times'][job_prio].append(jobs[name])\n",
        "\n",
        "\n",
        "env = simpy.Environment()\n",
        "workers = simpy.PriorityResource(env, capacity=1)\n",
        "env.process(job_arrival(env, workers))\n",
        "env.run()\n",
        "print(f'Avg cycle time of job type 1: {np.mean(stats[\"cycle_times\"][1]):.2f}')\n",
        "print(f'Avg cycle time of job type 2: {np.mean(stats[\"cycle_times\"][2]):.2f}')"
      ],
      "metadata": {
        "id": "Np0gFV21fSXM",
        "colab": {
          "base_uri": "https://localhost:8080/"
        },
        "outputId": "72b66d3b-86ba-4d31-ab9a-5c6e2e439530"
      },
      "execution_count": null,
      "outputs": [
        {
          "output_type": "stream",
          "name": "stdout",
          "text": [
            "Avg cycle time of job type 1: 36.69\n",
            "Avg cycle time of job type 2: 6281.83\n"
          ]
        }
      ]
    }
  ]
}