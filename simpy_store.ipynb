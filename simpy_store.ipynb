{
  "nbformat": 4,
  "nbformat_minor": 0,
  "metadata": {
    "colab": {
      "provenance": []
    },
    "kernelspec": {
      "name": "python3",
      "display_name": "Python 3"
    },
    "language_info": {
      "name": "python"
    }
  },
  "cells": [
    {
      "cell_type": "code",
      "source": [
        "!pip install simpy"
      ],
      "metadata": {
        "colab": {
          "base_uri": "https://localhost:8080/"
        },
        "id": "0wanA2CxVuSA",
        "outputId": "bfb987cf-ac9e-43d5-d625-238c8a5757d6"
      },
      "execution_count": null,
      "outputs": [
        {
          "output_type": "stream",
          "name": "stdout",
          "text": [
            "Collecting simpy\n",
            "  Downloading simpy-4.1.1-py3-none-any.whl.metadata (6.1 kB)\n",
            "Downloading simpy-4.1.1-py3-none-any.whl (27 kB)\n",
            "Installing collected packages: simpy\n",
            "Successfully installed simpy-4.1.1\n"
          ]
        }
      ]
    },
    {
      "cell_type": "markdown",
      "source": [
        "# Store"
      ],
      "metadata": {
        "id": "-r_5mgGQVQEy"
      }
    },
    {
      "cell_type": "markdown",
      "source": [
        "build a model w/ a producer and a customer\n",
        "\n",
        "the producer stores vegetables and puts them in the shelf\n",
        "\n",
        "the customer gets them from the shelf"
      ],
      "metadata": {
        "id": "r-lxELldVRQ5"
      }
    },
    {
      "cell_type": "code",
      "execution_count": null,
      "metadata": {
        "id": "wCfjCkbfUGvd"
      },
      "outputs": [],
      "source": [
        "import simpy, random\n",
        "\n",
        "VEGGIES = ['carrot', 'potato', 'onion', 'cabbage']\n",
        "\n",
        "def producer(env, store):\n",
        "  while True:\n",
        "    yield env.timeout(2)\n",
        "    vegetable = random.choice(VEGGIES)\n",
        "    yield store.put(vegetable)\n",
        "    print(f'Produced {vegetable} at time {env.now:.2f}')\n",
        "\n",
        "def customer(name, env, store):\n",
        "  print(f'Customer {name} arrives and requests vegetable at time {env.now:.2f}')\n",
        "  vegetable = yield store.get()\n",
        "  print(f'Customer {name} got {vegetable} at {env.now:.2f} and left')\n",
        "\n",
        "def customer_generator(env, store):\n",
        "  i = 0\n",
        "  while True:\n",
        "    yield env.timeout(1) #1min\n",
        "    env.process(customer(name=i, env=env, store=store))\n",
        "    i += 1\n",
        "\n",
        "env = simpy.Environment()\n",
        "store = simpy.Store(env, capacity=5) #shelf\n",
        "\n",
        "env.process(producer(env, store))\n",
        "env.process(customer_generator(env, store))\n",
        "env.run(until=100)\n"
      ]
    },
    {
      "cell_type": "markdown",
      "source": [
        "expiry date\n",
        "\n",
        "send out expired stock asap!!!"
      ],
      "metadata": {
        "id": "rYl2iyIwX-AZ"
      }
    },
    {
      "cell_type": "code",
      "source": [
        "import simpy, random\n",
        "\n",
        "def producer(env, store):\n",
        "  while True:\n",
        "    yield env.timeout(1)\n",
        "    veg_name = 'potato'\n",
        "    expires_in = env.now + random.randint(1, 10)\n",
        "    vegetable = simpy.PriorityItem(item=veg_name, priority=expires_in)\n",
        "    yield store.put(vegetable)\n",
        "    print(f'Produced {vegetable} at time {env.now:.2f}')\n",
        "\n",
        "def customer(name, env, store):\n",
        "  print(f'Customer {name} arrives and requests vegetable at time {env.now:.2f}')\n",
        "  vegetable = yield store.get()\n",
        "  print(f'Customer {name} got {vegetable} at {env.now:.2f} and left')\n",
        "\n",
        "def customer_generator(env, store):\n",
        "  i = 0\n",
        "  while True:\n",
        "    yield env.timeout(3) #1min\n",
        "    env.process(customer(name=i, env=env, store=store))\n",
        "    i += 1\n",
        "\n",
        "env = simpy.Environment()\n",
        "store = simpy.PriorityStore(env, capacity=5) #shelf\n",
        "\n",
        "env.process(producer(env, store))\n",
        "env.process(customer_generator(env, store))\n",
        "env.run(until=20)\n"
      ],
      "metadata": {
        "id": "iiG2_InqYPBr"
      },
      "execution_count": null,
      "outputs": []
    },
    {
      "cell_type": "markdown",
      "source": [
        "picky customer\n",
        "\n",
        "customer wants a certain type of veg"
      ],
      "metadata": {
        "id": "J3iwKedsZeVx"
      }
    },
    {
      "cell_type": "code",
      "source": [
        "import simpy, random\n",
        "\n",
        "VEGGIES = ['carrot', 'potato', 'onion', 'cabbage']\n",
        "\n",
        "def producer(env, store):\n",
        "  while True:\n",
        "    yield env.timeout(2)\n",
        "    vegetable = random.choice(VEGGIES)\n",
        "    yield store.put(vegetable)\n",
        "    print(f'Produced {vegetable} at time {env.now:.2f}')\n",
        "\n",
        "def customer(name, env, store):\n",
        "  req_veg = random.choice(VEGGIES) #requested veg\n",
        "  print(f'Customer {name} arrives and requests vegetable {req_veg} at time {env.now:.2f}')\n",
        "  vegetable = yield store.get(lambda veg: veg == req_veg)\n",
        "  print(f'Customer {name} got {vegetable} at {env.now:.2f} and left')\n",
        "\n",
        "def customer_generator(env, store):\n",
        "  i = 0\n",
        "  while True:\n",
        "    yield env.timeout(1) #1min\n",
        "    env.process(customer(name=i, env=env, store=store))\n",
        "    i += 1\n",
        "\n",
        "env = simpy.Environment()\n",
        "store = simpy.FilterStore(env, capacity=5) #shelf\n",
        "\n",
        "env.process(producer(env, store))\n",
        "env.process(customer_generator(env, store))\n",
        "env.run(until=20)\n"
      ],
      "metadata": {
        "colab": {
          "base_uri": "https://localhost:8080/"
        },
        "id": "_nfMWp8WZhgn",
        "outputId": "ca3ea4ce-ccaa-4696-8c4e-aecb4f68ddeb"
      },
      "execution_count": null,
      "outputs": [
        {
          "output_type": "stream",
          "name": "stdout",
          "text": [
            "Customer 0 arrives and requests vegetable cabbage at time 1.00\n",
            "Customer 1 arrives and requests vegetable carrot at time 2.00\n",
            "Produced onion at time 2.00\n",
            "Customer 2 arrives and requests vegetable onion at time 3.00\n",
            "Customer 2 got onion at 3.00 and left\n",
            "Customer 3 arrives and requests vegetable carrot at time 4.00\n",
            "Produced potato at time 4.00\n",
            "Customer 4 arrives and requests vegetable carrot at time 5.00\n",
            "Customer 5 arrives and requests vegetable potato at time 6.00\n",
            "Produced onion at time 6.00\n",
            "Customer 5 got potato at 6.00 and left\n",
            "Customer 6 arrives and requests vegetable carrot at time 7.00\n",
            "Customer 7 arrives and requests vegetable onion at time 8.00\n",
            "Produced potato at time 8.00\n",
            "Customer 7 got onion at 8.00 and left\n",
            "Customer 8 arrives and requests vegetable potato at time 9.00\n",
            "Customer 8 got potato at 9.00 and left\n",
            "Customer 9 arrives and requests vegetable potato at time 10.00\n",
            "Produced onion at time 10.00\n",
            "Customer 10 arrives and requests vegetable potato at time 11.00\n",
            "Customer 11 arrives and requests vegetable cabbage at time 12.00\n",
            "Produced cabbage at time 12.00\n",
            "Customer 0 got cabbage at 12.00 and left\n",
            "Customer 12 arrives and requests vegetable onion at time 13.00\n",
            "Customer 12 got onion at 13.00 and left\n",
            "Customer 13 arrives and requests vegetable cabbage at time 14.00\n",
            "Produced potato at time 14.00\n",
            "Customer 9 got potato at 14.00 and left\n",
            "Customer 14 arrives and requests vegetable onion at time 15.00\n",
            "Customer 15 arrives and requests vegetable carrot at time 16.00\n",
            "Produced carrot at time 16.00\n",
            "Customer 1 got carrot at 16.00 and left\n",
            "Customer 16 arrives and requests vegetable potato at time 17.00\n",
            "Customer 17 arrives and requests vegetable carrot at time 18.00\n",
            "Produced carrot at time 18.00\n",
            "Customer 3 got carrot at 18.00 and left\n",
            "Customer 18 arrives and requests vegetable carrot at time 19.00\n"
          ]
        }
      ]
    }
  ]
}